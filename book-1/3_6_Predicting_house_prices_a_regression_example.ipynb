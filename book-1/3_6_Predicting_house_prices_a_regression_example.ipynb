{
 "cells": [
  {
   "cell_type": "markdown",
   "metadata": {},
   "source": [
    "# 3.6 Predicting house prices: a regression example\n",
    "\n",
    "Another common type of machine-learning problem is **regression**, which consists of \n",
    "**predicting a continuous value** instead of a discrete label: for instance, predicting \n",
    "the temperature tomorrow, given meteorological data; or predicting the time that a \n",
    "software project will take to complete, given its specifications.\n",
    "\n",
    "You’ll attempt to predict the median price of homes in a given Boston suburb in the\n",
    "mid-1970s, given data points about the suburb at the time, such as the crime rate, the\n",
    "local property tax rate, and so on. The dataset you’ll use has an interesting difference\n",
    "from the two previous examples. It has relatively few data points: only 506, split\n",
    "between 404 training samples and 102 test samples. And each feature in the input data\n",
    "(for example, the crime rate) has a different scale. For instance, some values are \n",
    "proportions, which take values between 0 and 1; others take values between 1 and 12, \n",
    "others between 0 and 100, and so on."
   ]
  },
  {
   "cell_type": "code",
   "execution_count": 1,
   "metadata": {
    "colab": {
     "base_uri": "https://localhost:8080/"
    },
    "id": "CbJexCOAxm3i",
    "outputId": "4cda681c-982a-420d-f92e-b7669003013d"
   },
   "outputs": [
    {
     "name": "stdout",
     "output_type": "stream",
     "text": [
      "Downloading data from https://storage.googleapis.com/tensorflow/tf-keras-datasets/boston_housing.npz\n",
      "57344/57026 [==============================] - 0s 0us/step\n",
      "65536/57026 [==================================] - 0s 0us/step\n"
     ]
    }
   ],
   "source": [
    "# Loading the Boston housing dataset\n",
    "\n",
    "from keras.datasets import boston_housing\n",
    "\n",
    "(train_data, train_targets), (test_data, test_targets) = boston_housing.load_data()"
   ]
  },
  {
   "cell_type": "code",
   "execution_count": 2,
   "metadata": {
    "colab": {
     "base_uri": "https://localhost:8080/"
    },
    "id": "Xtuq7p4nyB63",
    "outputId": "016edd93-f556-4b24-9ce5-d4c80cf35002"
   },
   "outputs": [
    {
     "data": {
      "text/plain": [
       "numpy.ndarray"
      ]
     },
     "execution_count": 2,
     "metadata": {},
     "output_type": "execute_result"
    }
   ],
   "source": [
    "type(train_data)"
   ]
  },
  {
   "cell_type": "code",
   "execution_count": 3,
   "metadata": {
    "colab": {
     "base_uri": "https://localhost:8080/"
    },
    "id": "2IpvwxSqxxcv",
    "outputId": "20315fc3-572a-47df-a440-2cf18efff91d"
   },
   "outputs": [
    {
     "data": {
      "text/plain": [
       "(404, 13)"
      ]
     },
     "execution_count": 3,
     "metadata": {},
     "output_type": "execute_result"
    }
   ],
   "source": [
    "train_data.shape"
   ]
  },
  {
   "cell_type": "code",
   "execution_count": 4,
   "metadata": {
    "colab": {
     "base_uri": "https://localhost:8080/"
    },
    "id": "vkldUV-ex1Fp",
    "outputId": "ae1197e6-bcfe-4ef6-d0f7-4ff5a79a5dfa"
   },
   "outputs": [
    {
     "data": {
      "text/plain": [
       "(102, 13)"
      ]
     },
     "execution_count": 4,
     "metadata": {},
     "output_type": "execute_result"
    }
   ],
   "source": [
    "test_data.shape"
   ]
  },
  {
   "cell_type": "code",
   "execution_count": 5,
   "metadata": {
    "colab": {
     "base_uri": "https://localhost:8080/"
    },
    "id": "ESqhHIrXx1VN",
    "outputId": "f685e642-b513-48a1-a76d-3f42be295635"
   },
   "outputs": [
    {
     "data": {
      "text/plain": [
       "array([15.2, 42.3, 50. , 21.1, 17.7, 18.5, 11.3, 15.6, 15.6, 14.4, 12.1,\n",
       "       17.9, 23.1, 19.9, 15.7,  8.8, 50. , 22.5, 24.1, 27.5])"
      ]
     },
     "execution_count": 5,
     "metadata": {},
     "output_type": "execute_result"
    }
   ],
   "source": [
    "train_targets[:20]"
   ]
  },
  {
   "cell_type": "code",
   "execution_count": 6,
   "metadata": {
    "id": "cLlGOrByx3EE"
   },
   "outputs": [],
   "source": [
    "# Normalizing the data\n",
    "\n",
    "mean = train_data.mean(axis=0)\n",
    "train_data -= mean\n",
    "std = train_data.std(axis=0)\n",
    "train_data /= std\n",
    "test_data -= mean\n",
    "test_data /= std"
   ]
  },
  {
   "cell_type": "code",
   "execution_count": 8,
   "metadata": {
    "id": "zMdjOBLQyFkD"
   },
   "outputs": [],
   "source": [
    "# Model definition\n",
    "\n",
    "from keras import models\n",
    "from keras import layers\n",
    "\n",
    "def build_model():\n",
    "    \n",
    "  model = models.Sequential()\n",
    "  model.add(layers.Dense(64, activation='relu', input_shape=(train_data.shape[1],)))\n",
    "  model.add(layers.Dense(64, activation='relu'))\n",
    "  model.add(layers.Dense(1))\n",
    "    \n",
    "  model.compile(optimizer='rmsprop', loss='mse', metrics=['mae'])\n",
    "\n",
    "  return model"
   ]
  },
  {
   "cell_type": "code",
   "execution_count": 10,
   "metadata": {
    "id": "GffLBy50yTfY"
   },
   "outputs": [
    {
     "data": {
      "text/plain": [
       "101"
      ]
     },
     "execution_count": 10,
     "metadata": {},
     "output_type": "execute_result"
    }
   ],
   "source": [
    "# K-fold validation\n",
    "\n",
    "import numpy as np\n",
    "k = 4\n",
    "num_val_samples = len(train_data) // k\n",
    "num_epochs = 100\n",
    "all_scores = []\n",
    "num_val_samples"
   ]
  },
  {
   "cell_type": "code",
   "execution_count": 11,
   "metadata": {
    "colab": {
     "base_uri": "https://localhost:8080/"
    },
    "id": "DfjcEJxVybOf",
    "outputId": "b0a63eab-58ad-443d-91fd-d2181c4156b1"
   },
   "outputs": [
    {
     "name": "stdout",
     "output_type": "stream",
     "text": [
      "processing fold # 0\n",
      "processing fold # 1\n",
      "processing fold # 2\n",
      "processing fold # 3\n",
      "CPU times: user 1min 10s, sys: 4.11 s, total: 1min 14s\n",
      "Wall time: 47.8 s\n"
     ]
    }
   ],
   "source": [
    "%%time\n",
    "\n",
    "# Validating your approach using K-fold validation\n",
    "\n",
    "for i in range(k):\n",
    "  print('processing fold #', i)\n",
    "  val_data = train_data[i * num_val_samples: (i + 1) * num_val_samples]\n",
    "  val_targets = train_targets[i * num_val_samples: (i + 1) * num_val_samples]\n",
    "\n",
    "  partial_train_data = np.concatenate(\n",
    "      [train_data[:i * num_val_samples], train_data[(i + 1) * num_val_samples:]], \n",
    "      axis=0)\n",
    "  \n",
    "  partial_train_targets = np.concatenate(\n",
    "      [train_targets[:i * num_val_samples], train_targets[(i + 1) * num_val_samples:]],\n",
    "      axis=0)\n",
    "  \n",
    "  model = build_model()\n",
    "  model.fit(partial_train_data, \n",
    "            partial_train_targets, \n",
    "            epochs=num_epochs, \n",
    "            batch_size=1, \n",
    "            verbose=0)\n",
    "  \n",
    "  val_mse, val_mae = model.evaluate(val_data, val_targets, verbose=0)\n",
    "  all_scores.append(val_mae)"
   ]
  },
  {
   "cell_type": "code",
   "execution_count": 12,
   "metadata": {
    "colab": {
     "base_uri": "https://localhost:8080/"
    },
    "id": "aqVhC7iCydIq",
    "outputId": "d79c1b0f-0258-49e0-9c06-07d1a7a87296"
   },
   "outputs": [
    {
     "data": {
      "text/plain": [
       "[2.2494328022003174, 2.308941125869751, 2.8028666973114014, 2.607492685317993]"
      ]
     },
     "execution_count": 12,
     "metadata": {},
     "output_type": "execute_result"
    }
   ],
   "source": [
    "all_scores"
   ]
  },
  {
   "cell_type": "code",
   "execution_count": 13,
   "metadata": {
    "colab": {
     "base_uri": "https://localhost:8080/"
    },
    "id": "ToNmkm_ezGFT",
    "outputId": "441a2101-bd89-48aa-93bb-1a4c1de48316"
   },
   "outputs": [
    {
     "data": {
      "text/plain": [
       "2.4921833276748657"
      ]
     },
     "execution_count": 13,
     "metadata": {},
     "output_type": "execute_result"
    }
   ],
   "source": [
    "np.mean(all_scores)"
   ]
  },
  {
   "cell_type": "code",
   "execution_count": 14,
   "metadata": {
    "colab": {
     "base_uri": "https://localhost:8080/",
     "height": 231
    },
    "id": "s8sNdegWzH2F",
    "outputId": "8409a0f7-5c31-4173-958e-69295b758ded"
   },
   "outputs": [
    {
     "name": "stdout",
     "output_type": "stream",
     "text": [
      "processing fold # 0\n",
      "processing fold # 1\n",
      "processing fold # 2\n",
      "processing fold # 3\n",
      "CPU times: user 6min 28s, sys: 23.4 s, total: 6min 52s\n",
      "Wall time: 4min 9s\n"
     ]
    }
   ],
   "source": [
    "%%time\n",
    "\n",
    "# Saving the validation logs at each fold\n",
    "\n",
    "num_epochs = 500\n",
    "all_mae_histories = []\n",
    "\n",
    "for i in range(k):\n",
    "  print('processing fold #', i)\n",
    "  val_data = train_data[i * num_val_samples: (i + 1) * num_val_samples]\n",
    "  val_targets = train_targets[i * num_val_samples: (i + 1) * num_val_samples]\n",
    "\n",
    "  partial_train_data = np.concatenate(\n",
    "      [train_data[:i * num_val_samples], train_data[(i + 1) * num_val_samples:]],\n",
    "      axis=0)\n",
    "  \n",
    "  partial_train_targets = np.concatenate(\n",
    "      [train_targets[:i * num_val_samples], train_targets[(i + 1) * num_val_samples:]],\n",
    "      axis=0)\n",
    "\n",
    "  model = build_model()\n",
    "  history = model.fit(\n",
    "      partial_train_data, \n",
    "      partial_train_targets,\n",
    "      validation_data=(val_data, val_targets),\n",
    "      epochs=num_epochs, \n",
    "      batch_size=1, \n",
    "      verbose=0)"
   ]
  },
  {
   "cell_type": "code",
   "execution_count": 15,
   "metadata": {
    "colab": {
     "base_uri": "https://localhost:8080/"
    },
    "id": "EQXK9i9G0bEk",
    "outputId": "249882d5-67e8-433f-e89e-4daa9e040eb8"
   },
   "outputs": [
    {
     "data": {
      "text/plain": [
       "dict_keys(['loss', 'mae', 'val_loss', 'val_mae'])"
      ]
     },
     "execution_count": 15,
     "metadata": {},
     "output_type": "execute_result"
    }
   ],
   "source": [
    "history.history.keys()"
   ]
  },
  {
   "cell_type": "code",
   "execution_count": 16,
   "metadata": {
    "colab": {
     "base_uri": "https://localhost:8080/",
     "height": 180
    },
    "id": "r3GaRVfC0Yle",
    "outputId": "a6959f4c-352f-4725-efdc-bdc1a02d0893"
   },
   "outputs": [],
   "source": [
    "mae_history = history.history['val_mae']\n",
    "all_mae_histories.append(mae_history)"
   ]
  },
  {
   "cell_type": "code",
   "execution_count": 17,
   "metadata": {
    "id": "_J6fKbIKzqwx"
   },
   "outputs": [],
   "source": [
    "# Building the history of successive mean K-fold validation scores\n",
    "\n",
    "average_mae_history = [np.mean([x[i] for x in all_mae_histories]) for i in range(num_epochs)]"
   ]
  },
  {
   "cell_type": "code",
   "execution_count": 18,
   "metadata": {
    "id": "ulyBTc4Uzxs9"
   },
   "outputs": [
    {
     "data": {
      "image/png": "[encoded data removed]",
      "text/plain": [
       "<Figure size 432x288 with 1 Axes>"
      ]
     },
     "metadata": {
      "needs_background": "light"
     },
     "output_type": "display_data"
    }
   ],
   "source": [
    "# Plotting validation scores\n",
    "\n",
    "import matplotlib.pyplot as plt\n",
    "\n",
    "plt.plot(range(1, len(average_mae_history) + 1), average_mae_history)\n",
    "plt.xlabel('Epochs')\n",
    "plt.ylabel('Validation MAE')\n",
    "plt.show()"
   ]
  },
  {
   "cell_type": "code",
   "execution_count": 19,
   "metadata": {
    "id": "jnF0ZU27z4CN"
   },
   "outputs": [
    {
     "data": {
      "image/png": "[encoded data removed]",
      "text/plain": [
       "<Figure size 432x288 with 1 Axes>"
      ]
     },
     "metadata": {
      "needs_background": "light"
     },
     "output_type": "display_data"
    }
   ],
   "source": [
    "# Plotting validation scores, excluding the first 10 data points\n",
    "\n",
    "def smooth_curve(points, factor=0.9):\n",
    "  smoothed_points = []\n",
    "  for point in points:\n",
    "    if smoothed_points:\n",
    "      previous = smoothed_points[-1]\n",
    "      smoothed_points.append(previous * factor + point * (1 - factor))\n",
    "    else:\n",
    "      smoothed_points.append(point)\n",
    "  return smoothed_points\n",
    "\n",
    "smooth_mae_history = smooth_curve(average_mae_history[10:])\n",
    "\n",
    "plt.plot(range(1, len(smooth_mae_history) + 1), smooth_mae_history)\n",
    "plt.xlabel('Epochs')\n",
    "plt.ylabel('Validation MAE')\n",
    "plt.show()"
   ]
  },
  {
   "cell_type": "code",
   "execution_count": 23,
   "metadata": {
    "colab": {
     "base_uri": "https://localhost:8080/"
    },
    "id": "SXEekCav0H_o",
    "outputId": "95b3c2e7-b1d3-4a41-fb6c-dd228a5c82a8"
   },
   "outputs": [
    {
     "name": "stdout",
     "output_type": "stream",
     "text": [
      "4/4 [==============================] - 0s 687us/step - loss: 17.3882 - mae: 2.5152\n",
      "CPU times: user 1.75 s, sys: 64 ms, total: 1.82 s\n",
      "Wall time: 1.24 s\n"
     ]
    },
    {
     "data": {
      "text/plain": [
       "2.5152103900909424"
      ]
     },
     "execution_count": 23,
     "metadata": {},
     "output_type": "execute_result"
    }
   ],
   "source": [
    "%%time\n",
    "\n",
    "# Training the final model\n",
    "\n",
    "model = build_model()\n",
    "\n",
    "model.fit(\n",
    "    train_data, \n",
    "    train_targets,\n",
    "    epochs=70, \n",
    "    batch_size=16, \n",
    "    verbose=0)\n",
    "\n",
    "test_mse_score, test_mae_score = model.evaluate(test_data, test_targets)\n",
    "test_mae_score"
   ]
  },
  {
   "cell_type": "markdown",
   "metadata": {
    "id": "ni0MXfNF0TZP"
   },
   "source": [
    "## Wrapping up\n",
    "\n",
    "Here’s what you should take away from this example:\n",
    "\n",
    "- Regression is done using **different loss functions** than what we used for classification. **Mean squared error (MSE)** is a loss function **commonly used for regression**.\n",
    "\n",
    "- Similarly, **evaluation metrics** to be used for regression differ from those used for classification; naturally, the concept of accuracy doesn’t apply for regression. A **common regression metric** is **mean absolute error (MAE)**.\n",
    "\n",
    "- When features in the input data have values in different ranges, **each feature should be scaled independently** as a preprocessing step.\n",
    "\n",
    "- When there is **little data available**, using **K-fold validation** is a great way to reliably evaluate a model.\n",
    "\n",
    "- When **little training data** is available, it’s preferable to **use a small network with few hidden layers** (typically only one or two), in order to avoid severe overfitting. "
   ]
  }
 ],
 "metadata": {
  "colab": {
   "name": "3.6 Predicting house prices: a regression example.ipynb",
   "provenance": []
  },
  "kernelspec": {
   "display_name": "Python 3",
   "language": "python",
   "name": "python3"
  },
  "language_info": {
   "codemirror_mode": {
    "name": "ipython",
    "version": 3
   },
   "file_extension": ".py",
   "mimetype": "text/x-python",
   "name": "python",
   "nbconvert_exporter": "python",
   "pygments_lexer": "ipython3",
   "version": "3.8.8"
  }
 },
 "nbformat": 4,
 "nbformat_minor": 1
}
