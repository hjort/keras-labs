{
 "cells": [
  {
   "cell_type": "code",
   "execution_count": 1,
   "id": "3b772aca",
   "metadata": {},
   "outputs": [
    {
     "name": "stderr",
     "output_type": "stream",
     "text": [
      "/dados/anaconda3/lib/python3.8/site-packages/keras/datasets/reuters.py:143: VisibleDeprecationWarning: Creating an ndarray from ragged nested sequences (which is a list-or-tuple of lists-or-tuples-or ndarrays with different lengths or shapes) is deprecated. If you meant to do this, you must specify 'dtype=object' when creating the ndarray\n",
      "  x_train, y_train = np.array(xs[:idx]), np.array(labels[:idx])\n",
      "/dados/anaconda3/lib/python3.8/site-packages/keras/datasets/reuters.py:144: VisibleDeprecationWarning: Creating an ndarray from ragged nested sequences (which is a list-or-tuple of lists-or-tuples-or ndarrays with different lengths or shapes) is deprecated. If you meant to do this, you must specify 'dtype=object' when creating the ndarray\n",
      "  x_test, y_test = np.array(xs[idx:]), np.array(labels[idx:])\n"
     ]
    }
   ],
   "source": [
    "# Loading the Reuters dataset\n",
    "from keras.datasets import reuters\n",
    "\n",
    "(train_data, train_labels), (test_data, test_labels) = reuters.load_data(num_words=10000)"
   ]
  },
  {
   "cell_type": "code",
   "execution_count": 2,
   "id": "2c234328",
   "metadata": {},
   "outputs": [],
   "source": [
    "# Encoding the data\n",
    "import numpy as np\n",
    "\n",
    "def vectorize_sequences(sequences, dimension=10000):\n",
    "    results = np.zeros((len(sequences), dimension))\n",
    "    for i, sequence in enumerate(sequences):\n",
    "        results[i, sequence] = 1.\n",
    "    return results\n",
    "\n",
    "x_train = vectorize_sequences(train_data)\n",
    "x_test = vectorize_sequences(test_data)"
   ]
  },
  {
   "cell_type": "code",
   "execution_count": 3,
   "id": "7ffe4a6e",
   "metadata": {},
   "outputs": [],
   "source": [
    "# there is a built-in way to do this in Keras\n",
    "from keras.utils.np_utils import to_categorical\n",
    "\n",
    "one_hot_train_labels = to_categorical(train_labels)\n",
    "one_hot_test_labels = to_categorical(test_labels)"
   ]
  },
  {
   "cell_type": "code",
   "execution_count": 4,
   "id": "3b14baea",
   "metadata": {},
   "outputs": [],
   "source": [
    "import os\n",
    "os.environ['PYTHONHASHSEED']=str(1)\n",
    "\n",
    "import tensorflow as tf\n",
    "import random\n",
    "import numpy as np\n",
    "\n",
    "def reset_random_seeds(SEED = 42):\n",
    "  os.environ['PYTHONHASHSEED']=str(SEED)\n",
    "  tf.random.set_seed(SEED)\n",
    "  np.random.seed(SEED)\n",
    "  random.seed(SEED)"
   ]
  },
  {
   "cell_type": "code",
   "execution_count": 5,
   "id": "fffa07da",
   "metadata": {},
   "outputs": [],
   "source": [
    "from keras import models\n",
    "from keras import layers\n",
    "\n",
    "def create_and_train_model(hidden_layers=2,\n",
    "                           hidden_units=64,\n",
    "                           loss_function='categorical_crossentropy',\n",
    "                           activation_function='relu'):\n",
    "  \n",
    "  model = models.Sequential()\n",
    "\n",
    "  model.add(layers.Dense(hidden_units, activation=activation_function, input_shape=(10000,)))\n",
    "\n",
    "  for i in range(hidden_layers - 1):\n",
    "    model.add(layers.Dense(hidden_units, activation=activation_function))\n",
    " \n",
    "  model.add(layers.Dense(46, activation='softmax'))\n",
    "\n",
    "  model.compile(optimizer='rmsprop',\n",
    "                loss=loss_function,\n",
    "                metrics=['accuracy'])\n",
    "\n",
    "  model.fit(x_train,\n",
    "            one_hot_train_labels,\n",
    "            epochs=8,\n",
    "            verbose=0,\n",
    "            batch_size=512)\n",
    "\n",
    "  results = model.evaluate(x_test, one_hot_test_labels)\n",
    "\n",
    "  return \"[hidden_layers=%d, hidden_units=%d, loss_function=%s, \" \\\n",
    "          \"activation_function=%s]\\n => loss: %.4f - accuracy: %.4f\\n\" % (\n",
    "          hidden_layers, hidden_units, loss_function, activation_function,\n",
    "          results[0], results[1])"
   ]
  },
  {
   "cell_type": "code",
   "execution_count": 6,
   "id": "e57667e5",
   "metadata": {},
   "outputs": [
    {
     "name": "stdout",
     "output_type": "stream",
     "text": [
      "71/71 [==============================] - 0s 604us/step - loss: 1.2913 - accuracy: 0.7026\n",
      "[hidden_layers=2, hidden_units=16, loss_function=categorical_crossentropy, activation_function=relu]\n",
      " => loss: 1.2913 - accuracy: 0.7026\n",
      "\n",
      "71/71 [==============================] - 0s 660us/step - loss: 1.0421 - accuracy: 0.7663\n",
      "[hidden_layers=2, hidden_units=32, loss_function=categorical_crossentropy, activation_function=relu]\n",
      " => loss: 1.0421 - accuracy: 0.7663\n",
      "\n",
      "71/71 [==============================] - 0s 796us/step - loss: 0.9641 - accuracy: 0.7885\n",
      "[hidden_layers=2, hidden_units=64, loss_function=categorical_crossentropy, activation_function=relu]\n",
      " => loss: 0.9641 - accuracy: 0.7885\n",
      "\n",
      "71/71 [==============================] - 0s 1ms/step - loss: 0.9903 - accuracy: 0.7872\n",
      "[hidden_layers=2, hidden_units=128, loss_function=categorical_crossentropy, activation_function=relu]\n",
      " => loss: 0.9903 - accuracy: 0.7872\n",
      "\n",
      "71/71 [==============================] - 0s 2ms/step - loss: 1.0730 - accuracy: 0.7903\n",
      "[hidden_layers=2, hidden_units=256, loss_function=categorical_crossentropy, activation_function=relu]\n",
      " => loss: 1.0730 - accuracy: 0.7903\n",
      "\n",
      "71/71 [==============================] - 0s 3ms/step - loss: 1.0607 - accuracy: 0.7961\n",
      "[hidden_layers=2, hidden_units=512, loss_function=categorical_crossentropy, activation_function=relu]\n",
      " => loss: 1.0607 - accuracy: 0.7961\n",
      "\n",
      "CPU times: user 2min 28s, sys: 6.34 s, total: 2min 34s\n",
      "Wall time: 27.8 s\n"
     ]
    }
   ],
   "source": [
    "%%time\n",
    "\n",
    "# Try using larger or smaller layers: 32 units, 128 units, and so on.\n",
    "\n",
    "# => best result: 512 hidden units\n",
    "\n",
    "for value in [16, 32, 64, 128, 256, 512]:\n",
    "  res = create_and_train_model(hidden_units=value)\n",
    "  print(res)"
   ]
  },
  {
   "cell_type": "code",
   "execution_count": 8,
   "id": "7b61ac04",
   "metadata": {},
   "outputs": [
    {
     "name": "stdout",
     "output_type": "stream",
     "text": [
      "71/71 [==============================] - 0s 764us/step - loss: 0.8708 - accuracy: 0.8054\n",
      "[hidden_layers=1, hidden_units=64, loss_function=categorical_crossentropy, activation_function=relu]\n",
      " => loss: 0.8708 - accuracy: 0.8054\n",
      "\n",
      "71/71 [==============================] - 0s 815us/step - loss: 1.0033 - accuracy: 0.7858\n",
      "[hidden_layers=2, hidden_units=64, loss_function=categorical_crossentropy, activation_function=relu]\n",
      " => loss: 1.0033 - accuracy: 0.7858\n",
      "\n",
      "71/71 [==============================] - 0s 783us/step - loss: 1.0395 - accuracy: 0.7827\n",
      "[hidden_layers=3, hidden_units=64, loss_function=categorical_crossentropy, activation_function=relu]\n",
      " => loss: 1.0395 - accuracy: 0.7827\n",
      "\n",
      "71/71 [==============================] - 0s 827us/step - loss: 1.2127 - accuracy: 0.7507\n",
      "[hidden_layers=4, hidden_units=64, loss_function=categorical_crossentropy, activation_function=relu]\n",
      " => loss: 1.2127 - accuracy: 0.7507\n",
      "\n",
      "CPU times: user 46.5 s, sys: 1.82 s, total: 48.3 s\n",
      "Wall time: 8.41 s\n"
     ]
    }
   ],
   "source": [
    "%%time\n",
    "\n",
    "# You used two hidden layers. Now try using a single hidden layer, or three hidden layers.\n",
    "\n",
    "# => best result: 1 hidden layer(s)\n",
    "\n",
    "for value in [1, 2, 3, 4]:\n",
    "  res = create_and_train_model(hidden_layers=value)\n",
    "  print(res)"
   ]
  },
  {
   "cell_type": "code",
   "execution_count": null,
   "id": "f42b6d70",
   "metadata": {},
   "outputs": [],
   "source": []
  }
 ],
 "metadata": {
  "kernelspec": {
   "display_name": "Python 3",
   "language": "python",
   "name": "python3"
  },
  "language_info": {
   "codemirror_mode": {
    "name": "ipython",
    "version": 3
   },
   "file_extension": ".py",
   "mimetype": "text/x-python",
   "name": "python",
   "nbconvert_exporter": "python",
   "pygments_lexer": "ipython3",
   "version": "3.8.8"
  }
 },
 "nbformat": 4,
 "nbformat_minor": 5
}
