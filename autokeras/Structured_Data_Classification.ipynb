{
 "cells": [
  {
   "cell_type": "markdown",
   "id": "028a7518",
   "metadata": {},
   "source": [
    "https://autokeras.com/tutorial/structured_data_classification/"
   ]
  },
  {
   "cell_type": "raw",
   "id": "0b4d70d9",
   "metadata": {},
   "source": [
    "!pip install autokeras"
   ]
  },
  {
   "cell_type": "code",
   "execution_count": 1,
   "id": "5ae01e33",
   "metadata": {},
   "outputs": [],
   "source": [
    "import numpy as np\n",
    "import pandas as pd\n",
    "import tensorflow as tf\n",
    "import autokeras as ak"
   ]
  },
  {
   "cell_type": "raw",
   "id": "6b7bb173",
   "metadata": {},
   "source": [
    "# The first step is to prepare your data\n",
    "\n",
    "TRAIN_DATA_URL = \"https://storage.googleapis.com/tf-datasets/titanic/train.csv\"\n",
    "TEST_DATA_URL = \"https://storage.googleapis.com/tf-datasets/titanic/eval.csv\"\n",
    "\n",
    "train_file_path = tf.keras.utils.get_file(\"train.csv\", TRAIN_DATA_URL)\n",
    "test_file_path = tf.keras.utils.get_file(\"eval.csv\", TEST_DATA_URL)"
   ]
  },
  {
   "cell_type": "code",
   "execution_count": 2,
   "id": "45415b2f",
   "metadata": {},
   "outputs": [],
   "source": [
    "train_file_path = \"data/titanic_train.csv\"\n",
    "test_file_path = \"data/titanic_eval.csv\""
   ]
  },
  {
   "cell_type": "code",
   "execution_count": 3,
   "id": "28487c69",
   "metadata": {},
   "outputs": [
    {
     "name": "stdout",
     "output_type": "stream",
     "text": [
      "Trial 20 Complete [00h 00m 03s]\n",
      "val_accuracy: 0.8782608509063721\n",
      "\n",
      "Best val_accuracy So Far: 0.895652174949646\n",
      "Total elapsed time: 00h 04m 01s\n",
      "INFO:tensorflow:Oracle triggered exit\n",
      "Epoch 1/5\n",
      "20/20 [==============================] - 0s 633us/step - loss: 0.6886 - accuracy: 0.5678\n",
      "Epoch 2/5\n",
      "20/20 [==============================] - 0s 601us/step - loss: 0.6103 - accuracy: 0.7273\n",
      "Epoch 3/5\n",
      "20/20 [==============================] - 0s 590us/step - loss: 0.5607 - accuracy: 0.7735\n",
      "Epoch 4/5\n",
      "20/20 [==============================] - 0s 626us/step - loss: 0.5178 - accuracy: 0.8118\n",
      "Epoch 5/5\n",
      "20/20 [==============================] - 0s 623us/step - loss: 0.4828 - accuracy: 0.8134\n",
      "INFO:tensorflow:Assets written to: ./structured_data_classifier/best_model/assets\n",
      "9/9 [==============================] - 0s 866us/step\n",
      "9/9 [==============================] - 0s 667us/step - loss: 0.5085 - accuracy: 0.7689\n",
      "[0.5085175037384033, 0.7689393758773804]\n"
     ]
    }
   ],
   "source": [
    "# The second step is to run the StructuredDataClassifier\n",
    "\n",
    "# Initialize the structured data classifier\n",
    "clf = ak.StructuredDataClassifier(\n",
    "    overwrite=True,\n",
    "    max_trials=20 # It tries 3 different models\n",
    ")\n",
    "\n",
    "# Feed the structured data classifier with training data\n",
    "clf.fit(\n",
    "    train_file_path, # The path to the train.csv file\n",
    "    \"survived\", # The name of the label column\n",
    "    #epochs=10, # leave the epochs unspecified for an adaptive number of epochs\n",
    ")\n",
    "\n",
    "# Predict with the best model\n",
    "predicted_y = clf.predict(test_file_path)\n",
    "\n",
    "# Evaluate the best model with testing data\n",
    "print(clf.evaluate(test_file_path, \"survived\"))"
   ]
  },
  {
   "cell_type": "code",
   "execution_count": 4,
   "id": "851fbfee",
   "metadata": {},
   "outputs": [
    {
     "name": "stdout",
     "output_type": "stream",
     "text": [
      "Trial 3 Complete [00h 00m 01s]\n",
      "val_accuracy: 0.852173924446106\n",
      "\n",
      "Best val_accuracy So Far: 0.886956512928009\n",
      "Total elapsed time: 00h 00m 04s\n",
      "INFO:tensorflow:Oracle triggered exit\n",
      "Epoch 1/10\n",
      "20/20 [==============================] - 0s 783us/step - loss: 0.6889 - accuracy: 0.5678\n",
      "Epoch 2/10\n",
      "20/20 [==============================] - 0s 756us/step - loss: 0.5473 - accuracy: 0.7560\n",
      "Epoch 3/10\n",
      "20/20 [==============================] - 0s 767us/step - loss: 0.4864 - accuracy: 0.8118\n",
      "Epoch 4/10\n",
      "20/20 [==============================] - 0s 774us/step - loss: 0.4566 - accuracy: 0.8246\n",
      "Epoch 5/10\n",
      "20/20 [==============================] - 0s 761us/step - loss: 0.4389 - accuracy: 0.8230\n",
      "Epoch 6/10\n",
      "20/20 [==============================] - 0s 789us/step - loss: 0.4261 - accuracy: 0.8293\n",
      "Epoch 7/10\n",
      "20/20 [==============================] - 0s 812us/step - loss: 0.4163 - accuracy: 0.8341\n",
      "Epoch 8/10\n",
      "20/20 [==============================] - 0s 799us/step - loss: 0.4082 - accuracy: 0.8341\n",
      "Epoch 9/10\n",
      "20/20 [==============================] - 0s 822us/step - loss: 0.4011 - accuracy: 0.8309\n",
      "Epoch 10/10\n",
      "20/20 [==============================] - 0s 795us/step - loss: 0.3946 - accuracy: 0.8325\n",
      "INFO:tensorflow:Assets written to: ./structured_data_classifier/best_model/assets\n",
      "9/9 [==============================] - 0s 893us/step\n",
      "9/9 [==============================] - 0s 712us/step - loss: 0.4502 - accuracy: 0.7841\n",
      "[0.4502401351928711, 0.7840909361839294]\n"
     ]
    }
   ],
   "source": [
    "# how the data can be prepared with numpy.ndarray, pandas.DataFrame, and tensorflow.data.Dataset\n",
    "\n",
    "# x_train as pandas.DataFrame, y_train as pandas.Series\n",
    "x_train = pd.read_csv(train_file_path)\n",
    "print(type(x_train))  # pandas.DataFrame\n",
    "y_train = x_train.pop(\"survived\")\n",
    "print(type(y_train))  # pandas.Series\n",
    "\n",
    "# You can also use pandas.DataFrame for y_train\n",
    "y_train = pd.DataFrame(y_train)\n",
    "print(type(y_train))  # pandas.DataFrame\n",
    "\n",
    "# You can also use numpy.ndarray for x_train and y_train\n",
    "x_train = x_train.to_numpy()\n",
    "y_train = y_train.to_numpy()\n",
    "print(type(x_train))  # numpy.ndarray\n",
    "print(type(y_train))  # numpy.ndarray\n",
    "\n",
    "# Preparing testing data\n",
    "x_test = pd.read_csv(test_file_path)\n",
    "y_test = x_test.pop(\"survived\")\n",
    "\n",
    "# It tries 10 different models\n",
    "clf = ak.StructuredDataClassifier(overwrite=True, max_trials=3)\n",
    "\n",
    "# Feed the structured data classifier with training data\n",
    "clf.fit(x_train, y_train, epochs=10)\n",
    "\n",
    "# Predict with the best model\n",
    "predicted_y = clf.predict(x_test)\n",
    "\n",
    "# Evaluate the best model with testing data\n",
    "print(clf.evaluate(x_test, y_test))"
   ]
  },
  {
   "cell_type": "code",
   "execution_count": 5,
   "id": "8643ef76",
   "metadata": {},
   "outputs": [
    {
     "name": "stdout",
     "output_type": "stream",
     "text": [
      "Trial 3 Complete [00h 00m 01s]\n",
      "val_accuracy: 0.8608695864677429\n",
      "\n",
      "Best val_accuracy So Far: 0.8608695864677429\n",
      "Total elapsed time: 00h 00m 05s\n",
      "INFO:tensorflow:Oracle triggered exit\n",
      "Epoch 1/10\n",
      "20/20 [==============================] - 0s 763us/step - loss: 0.7456 - accuracy: 0.5949\n",
      "Epoch 2/10\n",
      "20/20 [==============================] - 0s 742us/step - loss: 0.6293 - accuracy: 0.6762\n",
      "Epoch 3/10\n",
      "20/20 [==============================] - 0s 777us/step - loss: 0.5441 - accuracy: 0.7464\n",
      "Epoch 4/10\n",
      "20/20 [==============================] - 0s 752us/step - loss: 0.5114 - accuracy: 0.7640\n",
      "Epoch 5/10\n",
      "20/20 [==============================] - 0s 867us/step - loss: 0.5028 - accuracy: 0.7783\n",
      "Epoch 6/10\n",
      "20/20 [==============================] - 0s 756us/step - loss: 0.5020 - accuracy: 0.7911\n",
      "Epoch 7/10\n",
      "20/20 [==============================] - 0s 768us/step - loss: 0.4824 - accuracy: 0.7927\n",
      "Epoch 8/10\n",
      "20/20 [==============================] - 0s 754us/step - loss: 0.4935 - accuracy: 0.7895\n",
      "Epoch 9/10\n",
      "20/20 [==============================] - 0s 771us/step - loss: 0.4812 - accuracy: 0.7879\n",
      "Epoch 10/10\n",
      "20/20 [==============================] - 0s 783us/step - loss: 0.4794 - accuracy: 0.7990\n",
      "INFO:tensorflow:Assets written to: ./structured_data_classifier/best_model/assets\n",
      "9/9 [==============================] - 0s 567us/step\n",
      "9/9 [==============================] - 0s 679us/step - loss: 0.4587 - accuracy: 0.7955\n",
      "[0.4587315022945404, 0.7954545617103577]\n"
     ]
    }
   ],
   "source": [
    "# how to convert numpy.ndarray to tf.data.Dataset\n",
    "\n",
    "train_set = tf.data.Dataset.from_tensor_slices((x_train.astype(np.unicode), y_train))\n",
    "test_set = tf.data.Dataset.from_tensor_slices((x_test.to_numpy().astype(np.unicode), y_test))\n",
    "\n",
    "clf = ak.StructuredDataClassifier(overwrite=True, max_trials=3)\n",
    "\n",
    "# Feed the tensorflow Dataset to the classifier\n",
    "clf.fit(train_set, epochs=10)\n",
    "\n",
    "# Predict with the best model\n",
    "predicted_y = clf.predict(test_set)\n",
    "\n",
    "# Evaluate the best model with testing data\n",
    "print(clf.evaluate(test_set))"
   ]
  },
  {
   "cell_type": "code",
   "execution_count": 6,
   "id": "32007c09",
   "metadata": {},
   "outputs": [
    {
     "data": {
      "text/plain": [
       "<autokeras.tasks.structured_data.StructuredDataClassifier at 0x7f8c147a4c70>"
      ]
     },
     "execution_count": 6,
     "metadata": {},
     "output_type": "execute_result"
    }
   ],
   "source": [
    "# You can also specify the column names and types for the data\n",
    "\n",
    "# Initialize the structured data classifier\n",
    "clf = ak.StructuredDataClassifier(\n",
    "    column_names=[\n",
    "        \"sex\",\n",
    "        \"age\",\n",
    "        \"n_siblings_spouses\",\n",
    "        \"parch\",\n",
    "        \"fare\",\n",
    "        \"class\",\n",
    "        \"deck\",\n",
    "        \"embark_town\",\n",
    "        \"alone\",\n",
    "    ],\n",
    "    column_types={\"sex\": \"categorical\", \"fare\": \"numerical\"},\n",
    "    max_trials=10,  # It tries 10 different models\n",
    "    overwrite=True,\n",
    ")\n",
    "clf"
   ]
  },
  {
   "cell_type": "code",
   "execution_count": 7,
   "id": "63b8f21c",
   "metadata": {},
   "outputs": [
    {
     "name": "stdout",
     "output_type": "stream",
     "text": [
      "Trial 10 Complete [00h 00m 01s]\n",
      "val_accuracy: 0.8795180916786194\n",
      "\n",
      "Best val_accuracy So Far: 0.891566276550293\n",
      "Total elapsed time: 00h 00m 13s\n",
      "INFO:tensorflow:Oracle triggered exit\n",
      "Epoch 1/10\n",
      "20/20 [==============================] - 0s 687us/step - loss: 0.6315 - accuracy: 0.6523\n",
      "Epoch 2/10\n",
      "20/20 [==============================] - 0s 687us/step - loss: 0.4984 - accuracy: 0.8102\n",
      "Epoch 3/10\n",
      "20/20 [==============================] - 0s 659us/step - loss: 0.4418 - accuracy: 0.8246\n",
      "Epoch 4/10\n",
      "20/20 [==============================] - 0s 676us/step - loss: 0.4231 - accuracy: 0.8246\n",
      "Epoch 5/10\n",
      "20/20 [==============================] - 0s 662us/step - loss: 0.4127 - accuracy: 0.8230\n",
      "Epoch 6/10\n",
      "20/20 [==============================] - 0s 703us/step - loss: 0.4048 - accuracy: 0.8246\n",
      "Epoch 7/10\n",
      "20/20 [==============================] - 0s 733us/step - loss: 0.3987 - accuracy: 0.8262\n",
      "Epoch 8/10\n",
      "20/20 [==============================] - 0s 730us/step - loss: 0.3936 - accuracy: 0.8309\n",
      "Epoch 9/10\n",
      "20/20 [==============================] - 0s 734us/step - loss: 0.3891 - accuracy: 0.8373\n",
      "Epoch 10/10\n",
      "20/20 [==============================] - 0s 751us/step - loss: 0.3852 - accuracy: 0.8437\n",
      "INFO:tensorflow:Assets written to: ./structured_data_classifier/best_model/assets\n"
     ]
    }
   ],
   "source": [
    "# By default, AutoKeras use the last 20% of training data as validation data\n",
    "\n",
    "clf.fit(\n",
    "    x_train,\n",
    "    y_train,\n",
    "    # Split the training data and use the last 15% as validation data\n",
    "    validation_split=0.15,\n",
    "    epochs=10,\n",
    ")"
   ]
  },
  {
   "cell_type": "code",
   "execution_count": 8,
   "id": "000ca769",
   "metadata": {},
   "outputs": [],
   "source": [
    "# You can also use your own validation set instead of splitting it from the training data\n",
    "\n",
    "split = 500\n",
    "x_val = x_train[split:]\n",
    "y_val = y_train[split:]\n",
    "x_train = x_train[:split]\n",
    "y_train = y_train[:split]\n",
    "\n",
    "clf.fit(\n",
    "    x_train,\n",
    "    y_train,\n",
    "    # Use your own validation set\n",
    "    validation_data=(x_val, y_val),\n",
    "    epochs=10,\n",
    ")"
   ]
  },
  {
   "cell_type": "code",
   "execution_count": 9,
   "id": "cda535ec",
   "metadata": {},
   "outputs": [
    {
     "name": "stdout",
     "output_type": "stream",
     "text": [
      "Model: \"model\"\n",
      "_________________________________________________________________\n",
      "Layer (type)                 Output Shape              Param #   \n",
      "=================================================================\n",
      "input_1 (InputLayer)         [(None, 9)]               0         \n",
      "_________________________________________________________________\n",
      "multi_category_encoding (Mul (None, 9)                 0         \n",
      "_________________________________________________________________\n",
      "normalization (Normalization (None, 9)                 19        \n",
      "_________________________________________________________________\n",
      "dense (Dense)                (None, 32)                320       \n",
      "_________________________________________________________________\n",
      "re_lu (ReLU)                 (None, 32)                0         \n",
      "_________________________________________________________________\n",
      "dense_1 (Dense)              (None, 256)               8448      \n",
      "_________________________________________________________________\n",
      "re_lu_1 (ReLU)               (None, 256)               0         \n",
      "_________________________________________________________________\n",
      "dense_2 (Dense)              (None, 1)                 257       \n",
      "_________________________________________________________________\n",
      "classification_head_1 (Activ (None, 1)                 0         \n",
      "=================================================================\n",
      "Total params: 9,044\n",
      "Trainable params: 9,025\n",
      "Non-trainable params: 19\n",
      "_________________________________________________________________\n",
      "object\n"
     ]
    },
    {
     "data": {
      "text/plain": [
       "array([[0.12436253],\n",
       "       [0.94959366],\n",
       "       [0.51434654],\n",
       "       [0.91824704],\n",
       "       [0.10626236]], dtype=float32)"
      ]
     },
     "execution_count": 9,
     "metadata": {},
     "output_type": "execute_result"
    }
   ],
   "source": [
    "# export the best model found by AutoKeras as a Keras Model\n",
    "\n",
    "model = clf.export_model()\n",
    "model.summary()\n",
    "print(x_train.dtype)\n",
    "\n",
    "# numpy array in object (mixed type) is not supported.\n",
    "# convert it to unicode.\n",
    "model.predict(x_train.astype(np.unicode))[:5]"
   ]
  }
 ],
 "metadata": {
  "kernelspec": {
   "display_name": "Python 3",
   "language": "python",
   "name": "python3"
  },
  "language_info": {
   "codemirror_mode": {
    "name": "ipython",
    "version": 3
   },
   "file_extension": ".py",
   "mimetype": "text/x-python",
   "name": "python",
   "nbconvert_exporter": "python",
   "pygments_lexer": "ipython3",
   "version": "3.8.8"
  }
 },
 "nbformat": 4,
 "nbformat_minor": 5
}
