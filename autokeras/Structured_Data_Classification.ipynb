{
 "cells": [
  {
   "cell_type": "markdown",
   "id": "028a7518",
   "metadata": {},
   "source": [
    "https://autokeras.com/tutorial/structured_data_classification/"
   ]
  },
  {
   "cell_type": "raw",
   "id": "0b4d70d9",
   "metadata": {},
   "source": [
    "!pip install autokeras"
   ]
  },
  {
   "cell_type": "code",
   "execution_count": 2,
   "id": "5ae01e33",
   "metadata": {},
   "outputs": [],
   "source": [
    "import numpy as np\n",
    "import pandas as pd\n",
    "import tensorflow as tf\n",
    "import autokeras as ak"
   ]
  },
  {
   "cell_type": "code",
   "execution_count": 11,
   "id": "cfca7f19",
   "metadata": {},
   "outputs": [],
   "source": [
    "# The first step is to prepare your data\n",
    "\n",
    "TRAIN_DATA_URL = \"https://storage.googleapis.com/tf-datasets/titanic/train.csv\"\n",
    "TEST_DATA_URL = \"https://storage.googleapis.com/tf-datasets/titanic/eval.csv\"\n",
    "\n",
    "train_file_path = tf.keras.utils.get_file(\"train.csv\", TRAIN_DATA_URL)\n",
    "test_file_path = tf.keras.utils.get_file(\"eval.csv\", TEST_DATA_URL)"
   ]
  },
  {
   "cell_type": "code",
   "execution_count": 15,
   "id": "28487c69",
   "metadata": {},
   "outputs": [
    {
     "name": "stdout",
     "output_type": "stream",
     "text": [
      "Trial 20 Complete [00h 00m 02s]\n",
      "val_accuracy: 0.9130434989929199\n",
      "\n",
      "Best val_accuracy So Far: 0.9217391014099121\n",
      "Total elapsed time: 00h 00m 57s\n",
      "INFO:tensorflow:Oracle triggered exit\n",
      "Epoch 1/7\n",
      "20/20 [==============================] - 0s 861us/step - loss: 0.8223 - accuracy: 0.7560\n",
      "Epoch 2/7\n",
      "20/20 [==============================] - 0s 841us/step - loss: 0.4898 - accuracy: 0.7815\n",
      "Epoch 3/7\n",
      "20/20 [==============================] - 0s 843us/step - loss: 0.4832 - accuracy: 0.8102\n",
      "Epoch 4/7\n",
      "20/20 [==============================] - 0s 852us/step - loss: 0.4369 - accuracy: 0.8278\n",
      "Epoch 5/7\n",
      "20/20 [==============================] - 0s 832us/step - loss: 0.4263 - accuracy: 0.8198\n",
      "Epoch 6/7\n",
      "20/20 [==============================] - 0s 871us/step - loss: 0.4063 - accuracy: 0.8373\n",
      "Epoch 7/7\n",
      "20/20 [==============================] - 0s 866us/step - loss: 0.4051 - accuracy: 0.8357\n",
      "INFO:tensorflow:Assets written to: ./structured_data_classifier/best_model/assets\n",
      "9/9 [==============================] - 0s 912us/step\n",
      "9/9 [==============================] - 0s 702us/step - loss: 0.5522 - accuracy: 0.8220\n",
      "[0.5521571636199951, 0.8219696879386902]\n"
     ]
    }
   ],
   "source": [
    "# The second step is to run the StructuredDataClassifier\n",
    "\n",
    "# Initialize the structured data classifier\n",
    "clf = ak.StructuredDataClassifier(\n",
    "    overwrite=True,\n",
    "    max_trials=20 # It tries 3 different models\n",
    ")\n",
    "\n",
    "# Feed the structured data classifier with training data\n",
    "clf.fit(\n",
    "    train_file_path, # The path to the train.csv file\n",
    "    \"survived\", # The name of the label column\n",
    "    #epochs=10, # leave the epochs unspecified for an adaptive number of epochs\n",
    ")\n",
    "\n",
    "# Predict with the best model\n",
    "predicted_y = clf.predict(test_file_path)\n",
    "\n",
    "# Evaluate the best model with testing data\n",
    "print(clf.evaluate(test_file_path, \"survived\"))"
   ]
  },
  {
   "cell_type": "code",
   "execution_count": 16,
   "id": "851fbfee",
   "metadata": {},
   "outputs": [
    {
     "name": "stdout",
     "output_type": "stream",
     "text": [
      "Trial 3 Complete [00h 00m 01s]\n",
      "val_accuracy: 0.8695651888847351\n",
      "\n",
      "Best val_accuracy So Far: 0.895652174949646\n",
      "Total elapsed time: 00h 00m 03s\n",
      "INFO:tensorflow:Oracle triggered exit\n",
      "Epoch 1/10\n",
      "20/20 [==============================] - 0s 653us/step - loss: 0.6560 - accuracy: 0.6683\n",
      "Epoch 2/10\n",
      "20/20 [==============================] - 0s 632us/step - loss: 0.5779 - accuracy: 0.7656\n",
      "Epoch 3/10\n",
      "20/20 [==============================] - 0s 624us/step - loss: 0.5226 - accuracy: 0.7911\n",
      "Epoch 4/10\n",
      "20/20 [==============================] - 0s 636us/step - loss: 0.4819 - accuracy: 0.8150\n",
      "Epoch 5/10\n",
      "20/20 [==============================] - 0s 625us/step - loss: 0.4536 - accuracy: 0.8230\n",
      "Epoch 6/10\n",
      "20/20 [==============================] - 0s 679us/step - loss: 0.4351 - accuracy: 0.8293\n",
      "Epoch 7/10\n",
      "20/20 [==============================] - 0s 696us/step - loss: 0.4231 - accuracy: 0.8309\n",
      "Epoch 8/10\n",
      "20/20 [==============================] - 0s 706us/step - loss: 0.4149 - accuracy: 0.8341\n",
      "Epoch 9/10\n",
      "20/20 [==============================] - 0s 667us/step - loss: 0.4088 - accuracy: 0.8341\n",
      "Epoch 10/10\n",
      "20/20 [==============================] - 0s 702us/step - loss: 0.4040 - accuracy: 0.8373\n",
      "INFO:tensorflow:Assets written to: ./structured_data_classifier/best_model/assets\n",
      "9/9 [==============================] - 0s 767us/step\n",
      "9/9 [==============================] - 0s 723us/step - loss: 0.4313 - accuracy: 0.8068\n",
      "[0.4312811493873596, 0.8068181872367859]\n"
     ]
    }
   ],
   "source": [
    "# how the data can be prepared with numpy.ndarray, pandas.DataFrame, and tensorflow.data.Dataset\n",
    "\n",
    "# x_train as pandas.DataFrame, y_train as pandas.Series\n",
    "x_train = pd.read_csv(train_file_path)\n",
    "print(type(x_train))  # pandas.DataFrame\n",
    "y_train = x_train.pop(\"survived\")\n",
    "print(type(y_train))  # pandas.Series\n",
    "\n",
    "# You can also use pandas.DataFrame for y_train\n",
    "y_train = pd.DataFrame(y_train)\n",
    "print(type(y_train))  # pandas.DataFrame\n",
    "\n",
    "# You can also use numpy.ndarray for x_train and y_train\n",
    "x_train = x_train.to_numpy()\n",
    "y_train = y_train.to_numpy()\n",
    "print(type(x_train))  # numpy.ndarray\n",
    "print(type(y_train))  # numpy.ndarray\n",
    "\n",
    "# Preparing testing data\n",
    "x_test = pd.read_csv(test_file_path)\n",
    "y_test = x_test.pop(\"survived\")\n",
    "\n",
    "# It tries 10 different models\n",
    "clf = ak.StructuredDataClassifier(overwrite=True, max_trials=3)\n",
    "\n",
    "# Feed the structured data classifier with training data\n",
    "clf.fit(x_train, y_train, epochs=10)\n",
    "\n",
    "# Predict with the best model\n",
    "predicted_y = clf.predict(x_test)\n",
    "\n",
    "# Evaluate the best model with testing data\n",
    "print(clf.evaluate(x_test, y_test))"
   ]
  },
  {
   "cell_type": "code",
   "execution_count": 17,
   "id": "8643ef76",
   "metadata": {},
   "outputs": [
    {
     "name": "stdout",
     "output_type": "stream",
     "text": [
      "Trial 3 Complete [00h 00m 01s]\n",
      "val_accuracy: 0.8695651888847351\n",
      "\n",
      "Best val_accuracy So Far: 0.8695651888847351\n",
      "Total elapsed time: 00h 00m 04s\n",
      "INFO:tensorflow:Oracle triggered exit\n",
      "Epoch 1/10\n",
      "20/20 [==============================] - 0s 832us/step - loss: 0.6149 - accuracy: 0.6858\n",
      "Epoch 2/10\n",
      "20/20 [==============================] - 0s 821us/step - loss: 0.5027 - accuracy: 0.7815\n",
      "Epoch 3/10\n",
      "20/20 [==============================] - 0s 847us/step - loss: 0.4456 - accuracy: 0.8214\n",
      "Epoch 4/10\n",
      "20/20 [==============================] - 0s 813us/step - loss: 0.4398 - accuracy: 0.8166\n",
      "Epoch 5/10\n",
      "20/20 [==============================] - 0s 823us/step - loss: 0.4392 - accuracy: 0.8214\n",
      "Epoch 6/10\n",
      "20/20 [==============================] - 0s 822us/step - loss: 0.4316 - accuracy: 0.8214\n",
      "Epoch 7/10\n",
      "20/20 [==============================] - 0s 837us/step - loss: 0.4444 - accuracy: 0.8182\n",
      "Epoch 8/10\n",
      "20/20 [==============================] - 0s 862us/step - loss: 0.4261 - accuracy: 0.8246\n",
      "Epoch 9/10\n",
      "20/20 [==============================] - 0s 853us/step - loss: 0.4283 - accuracy: 0.8166\n",
      "Epoch 10/10\n",
      "20/20 [==============================] - 0s 834us/step - loss: 0.4247 - accuracy: 0.8166\n",
      "INFO:tensorflow:Assets written to: ./structured_data_classifier/best_model/assets\n",
      "9/9 [==============================] - 0s 596us/step\n",
      "9/9 [==============================] - 0s 671us/step - loss: 0.4353 - accuracy: 0.7879\n",
      "[0.43525588512420654, 0.7878788113594055]\n"
     ]
    }
   ],
   "source": [
    "# how to convert numpy.ndarray to tf.data.Dataset\n",
    "\n",
    "train_set = tf.data.Dataset.from_tensor_slices((x_train.astype(np.unicode), y_train))\n",
    "test_set = tf.data.Dataset.from_tensor_slices((x_test.to_numpy().astype(np.unicode), y_test))\n",
    "\n",
    "clf = ak.StructuredDataClassifier(overwrite=True, max_trials=3)\n",
    "\n",
    "# Feed the tensorflow Dataset to the classifier\n",
    "clf.fit(train_set, epochs=10)\n",
    "\n",
    "# Predict with the best model\n",
    "predicted_y = clf.predict(test_set)\n",
    "\n",
    "# Evaluate the best model with testing data\n",
    "print(clf.evaluate(test_set))"
   ]
  },
  {
   "cell_type": "code",
   "execution_count": 18,
   "id": "32007c09",
   "metadata": {},
   "outputs": [
    {
     "data": {
      "text/plain": [
       "<autokeras.tasks.structured_data.StructuredDataClassifier at 0x7f7e7c644430>"
      ]
     },
     "execution_count": 18,
     "metadata": {},
     "output_type": "execute_result"
    }
   ],
   "source": [
    "# You can also specify the column names and types for the data\n",
    "\n",
    "# Initialize the structured data classifier\n",
    "clf = ak.StructuredDataClassifier(\n",
    "    column_names=[\n",
    "        \"sex\",\n",
    "        \"age\",\n",
    "        \"n_siblings_spouses\",\n",
    "        \"parch\",\n",
    "        \"fare\",\n",
    "        \"class\",\n",
    "        \"deck\",\n",
    "        \"embark_town\",\n",
    "        \"alone\",\n",
    "    ],\n",
    "    column_types={\"sex\": \"categorical\", \"fare\": \"numerical\"},\n",
    "    max_trials=10,  # It tries 10 different models\n",
    "    overwrite=True,\n",
    ")\n",
    "clf"
   ]
  },
  {
   "cell_type": "code",
   "execution_count": 19,
   "id": "63b8f21c",
   "metadata": {},
   "outputs": [
    {
     "name": "stdout",
     "output_type": "stream",
     "text": [
      "Trial 10 Complete [00h 00m 01s]\n",
      "val_accuracy: 0.8072289228439331\n",
      "\n",
      "Best val_accuracy So Far: 0.9277108311653137\n",
      "Total elapsed time: 00h 00m 13s\n",
      "INFO:tensorflow:Oracle triggered exit\n",
      "Epoch 1/10\n",
      "20/20 [==============================] - 0s 790us/step - loss: 0.5860 - accuracy: 0.7608\n",
      "Epoch 2/10\n",
      "20/20 [==============================] - 0s 786us/step - loss: 0.4998 - accuracy: 0.7767\n",
      "Epoch 3/10\n",
      "20/20 [==============================] - 0s 767us/step - loss: 0.4847 - accuracy: 0.8118\n",
      "Epoch 4/10\n",
      "20/20 [==============================] - 0s 779us/step - loss: 0.4731 - accuracy: 0.8070\n",
      "Epoch 5/10\n",
      "20/20 [==============================] - 0s 786us/step - loss: 0.4696 - accuracy: 0.8150\n",
      "Epoch 6/10\n",
      "20/20 [==============================] - 0s 795us/step - loss: 0.4683 - accuracy: 0.8102\n",
      "Epoch 7/10\n",
      "20/20 [==============================] - 0s 810us/step - loss: 0.4856 - accuracy: 0.7943\n",
      "Epoch 8/10\n",
      "20/20 [==============================] - 0s 817us/step - loss: 0.4820 - accuracy: 0.8054\n",
      "Epoch 9/10\n",
      "20/20 [==============================] - 0s 821us/step - loss: 0.4711 - accuracy: 0.8182\n",
      "Epoch 10/10\n",
      "20/20 [==============================] - 0s 821us/step - loss: 0.4904 - accuracy: 0.8118\n",
      "INFO:tensorflow:Assets written to: ./structured_data_classifier/best_model/assets\n"
     ]
    }
   ],
   "source": [
    "# By default, AutoKeras use the last 20% of training data as validation data\n",
    "\n",
    "clf.fit(\n",
    "    x_train,\n",
    "    y_train,\n",
    "    # Split the training data and use the last 15% as validation data\n",
    "    validation_split=0.15,\n",
    "    epochs=10,\n",
    ")"
   ]
  },
  {
   "cell_type": "code",
   "execution_count": 20,
   "id": "000ca769",
   "metadata": {},
   "outputs": [],
   "source": [
    "# You can also use your own validation set instead of splitting it from the training data\n",
    "\n",
    "split = 500\n",
    "x_val = x_train[split:]\n",
    "y_val = y_train[split:]\n",
    "x_train = x_train[:split]\n",
    "y_train = y_train[:split]\n",
    "\n",
    "clf.fit(\n",
    "    x_train,\n",
    "    y_train,\n",
    "    # Use your own validation set\n",
    "    validation_data=(x_val, y_val),\n",
    "    epochs=10,\n",
    ")"
   ]
  },
  {
   "cell_type": "code",
   "execution_count": 22,
   "id": "cda535ec",
   "metadata": {},
   "outputs": [
    {
     "name": "stdout",
     "output_type": "stream",
     "text": [
      "Model: \"model\"\n",
      "_________________________________________________________________\n",
      "Layer (type)                 Output Shape              Param #   \n",
      "=================================================================\n",
      "input_1 (InputLayer)         [(None, 9)]               0         \n",
      "_________________________________________________________________\n",
      "multi_category_encoding (Mul (None, 9)                 0         \n",
      "_________________________________________________________________\n",
      "normalization (Normalization (None, 9)                 19        \n",
      "_________________________________________________________________\n",
      "dense (Dense)                (None, 32)                320       \n",
      "_________________________________________________________________\n",
      "batch_normalization (BatchNo (None, 32)                128       \n",
      "_________________________________________________________________\n",
      "re_lu (ReLU)                 (None, 32)                0         \n",
      "_________________________________________________________________\n",
      "dense_1 (Dense)              (None, 32)                1056      \n",
      "_________________________________________________________________\n",
      "batch_normalization_1 (Batch (None, 32)                128       \n",
      "_________________________________________________________________\n",
      "re_lu_1 (ReLU)               (None, 32)                0         \n",
      "_________________________________________________________________\n",
      "dropout (Dropout)            (None, 32)                0         \n",
      "_________________________________________________________________\n",
      "dense_2 (Dense)              (None, 1)                 33        \n",
      "_________________________________________________________________\n",
      "classification_head_1 (Activ (None, 1)                 0         \n",
      "=================================================================\n",
      "Total params: 1,684\n",
      "Trainable params: 1,537\n",
      "Non-trainable params: 147\n",
      "_________________________________________________________________\n",
      "object\n"
     ]
    },
    {
     "data": {
      "text/plain": [
       "array([[0.2348328 ],\n",
       "       [0.9997906 ],\n",
       "       [0.5082667 ],\n",
       "       [0.9858891 ],\n",
       "       [0.08955491]], dtype=float32)"
      ]
     },
     "execution_count": 22,
     "metadata": {},
     "output_type": "execute_result"
    }
   ],
   "source": [
    "# export the best model found by AutoKeras as a Keras Model\n",
    "\n",
    "model = clf.export_model()\n",
    "model.summary()\n",
    "print(x_train.dtype)\n",
    "\n",
    "# numpy array in object (mixed type) is not supported.\n",
    "# convert it to unicode.\n",
    "model.predict(x_train.astype(np.unicode))[:5]"
   ]
  },
  {
   "cell_type": "code",
   "execution_count": null,
   "id": "40f72bfe",
   "metadata": {},
   "outputs": [],
   "source": []
  }
 ],
 "metadata": {
  "kernelspec": {
   "display_name": "Python 3",
   "language": "python",
   "name": "python3"
  },
  "language_info": {
   "codemirror_mode": {
    "name": "ipython",
    "version": 3
   },
   "file_extension": ".py",
   "mimetype": "text/x-python",
   "name": "python",
   "nbconvert_exporter": "python",
   "pygments_lexer": "ipython3",
   "version": "3.8.8"
  }
 },
 "nbformat": 4,
 "nbformat_minor": 5
}
